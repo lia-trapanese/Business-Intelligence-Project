{
 "cells": [
  {
   "cell_type": "code",
   "execution_count": 11,
   "id": "4839f170-f584-48ee-91ea-8bfe4f70805f",
   "metadata": {},
   "outputs": [],
   "source": [
    "def iscorrect(answer_value, correct_answer):\n",
    "    if answer_value == correct_answer:\n",
    "        corr = 1\n",
    "    else:\n",
    "        corr = 0\n",
    "    return corr"
   ]
  },
  {
   "cell_type": "code",
   "execution_count": 22,
   "id": "e4f7718d-ca55-4714-97d0-da6059a4f740",
   "metadata": {},
   "outputs": [],
   "source": [
    "with open(r\"C:\\Users\\giova\\OneDrive\\Desktop\\Magistrale\\Secondo anno\\Primo Semestre\\Lab\\answerdatasetnew\\answerdatacorrect.csv\") as file:\n",
    "    \n",
    "    questionid = []\n",
    "    userid = []\n",
    "    answerid = []\n",
    "    correctanswer = []\n",
    "    answervalue = []\n",
    "    dateid = []\n",
    "    subjectid = []\n",
    "    confidence = []\n",
    "    organizationid = []\n",
    "    iscorr = []\n",
    "    \n",
    "    no_duplicates = set()\n",
    "    \n",
    "    skip = True\n",
    "    \n",
    "    for line in file.readlines():\n",
    "        row= line.split(',')\n",
    "        if skip:        \n",
    "            skip = False\n",
    "            continue\n",
    "        else:  \n",
    "            for col in range(len(row)):\n",
    "                if row[2] not in no_duplicates:\n",
    "                    no_duplicates.add(row[2])\n",
    "                    questionid.append(row[0])\n",
    "                    userid.append(row[1])\n",
    "                    answerid.append(row[2])\n",
    "                    correctanswer.append(row[3])\n",
    "                    answervalue.append(row[4])\n",
    "                    dateid.append(row[8][:10].replace('-', ''))\n",
    "                    confidence.append(row[9])\n",
    "                    organizationid.append(str(row[10]) + \"_\" + str(row[11]) + \"_\" + str(int(float(row[12]))))\n",
    "                    iscorr.append(iscorrect(row[4], row[3]))\n",
    "                    subjectid.append(col)\n",
    "                                      \n",
    "with open(r\"C:\\Users\\giova\\OneDrive\\Desktop\\Magistrale\\Secondo anno\\Primo Semestre\\Lab\\Preprocessing\\Answers.csv\", mode='w') as f:\n",
    "    header = ['answerid', 'questionid', 'userid', 'organizationid', 'dateid', 'subjectid', 'answer_value', 'correct_answer', 'iscorrect', 'confidence']\n",
    "    for j in range(len(header)):\n",
    "        if j == len(header)-1:\n",
    "            f.write(str(header[j])+'\\n')\n",
    "        else:\n",
    "            f.write(str(header[j])+',')\n",
    "                \n",
    "    for answerid, questionid, userid, organizationid, dateid, subjectid, answervalue, correctanswer, iscorr, confidence in zip(answerid, questionid, userid, organizationid, dateid, subjectid, answervalue, correctanswer, iscorr, confidence):\n",
    "        f.write(str(answerid) + ',' + str(questionid) + ',' + str(userid) + ',' + str(organizationid) + ',' + str(dateid) + ',' + str(subjectid) + ',' + str(answervalue) + ',' + str(correctanswer) + ',' + str(iscorr) + ',' + str(confidence) + '\\n')"
   ]
  }
 ],
 "metadata": {
  "kernelspec": {
   "display_name": "Python 3 (ipykernel)",
   "language": "python",
   "name": "python3"
  },
  "language_info": {
   "codemirror_mode": {
    "name": "ipython",
    "version": 3
   },
   "file_extension": ".py",
   "mimetype": "text/x-python",
   "name": "python",
   "nbconvert_exporter": "python",
   "pygments_lexer": "ipython3",
   "version": "3.9.12"
  }
 },
 "nbformat": 4,
 "nbformat_minor": 5
}
