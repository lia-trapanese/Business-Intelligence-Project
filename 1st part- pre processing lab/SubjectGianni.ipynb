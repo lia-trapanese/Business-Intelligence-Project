{
 "cells": [
  {
   "cell_type": "code",
   "execution_count": 5,
   "id": "9851e56a-0498-41b8-8621-68bdfb702596",
   "metadata": {
    "tags": []
   },
   "outputs": [],
   "source": [
    "import ast\n",
    "import csv\n",
    "with open(r\"C:\\Users\\giova\\OneDrive\\Desktop\\Magistrale\\Secondo anno\\Primo Semestre\\Lab\\answerdatasetnew\\answerdatacorrect.csv\", \n",
    "          mode='r') as file:\n",
    "        \n",
    "        f = file.readlines()\n",
    "                \n",
    "        d = dict()\n",
    "        sbjs = set()\n",
    "        l = []\n",
    "        count_id = 0\n",
    "        skip=True\n",
    "        for line in f:\n",
    "            if skip == True:\n",
    "                skip=False\n",
    "                continue\n",
    "            else:\n",
    "                row= line.split('\"')  \n",
    "                subjs_group = ast.literal_eval(row[1])        #prendo la lista di materie che è in posizione 1, perche prima ho una stringa con tutte le colonne\n",
    "                if str(subjs_group) not in sbjs:            #stringa per inserirla nel set per evitare duplicati\n",
    "                    d[count_id] = subjs_group               #popolato il dizio con chiave con gruppo di materie e valore la lista di materie\n",
    "                    sbjs.add(str(subjs_group)) \n",
    "                    l.append(subjs_group)\n",
    "                    count_id +=1\n",
    "                else:\n",
    "                    continue\n",
    "\n",
    "\n",
    "        \n",
    "                \n",
    "with open(r\"C:\\Users\\giova\\OneDrive\\Desktop\\Magistrale\\Secondo anno\\Primo Semestre\\Lab\\answerdatasetnew\\subject_metadata.csv\", mode='r') as subfile:        \n",
    "    with open(r\"C:\\Users\\giova\\OneDrive\\Desktop\\Magistrale\\Secondo anno\\Primo Semestre\\Lab\\Preprocessing\\SubjectGianni.csv\", mode='w') as sufile:\n",
    "        \n",
    "        header= 'subjectid, description\\n'\n",
    "        sufile.write(header)\n",
    "            \n",
    "        subject= dict()\n",
    "        skip= True\n",
    "        \n",
    "        rows = csv.reader(subfile)\n",
    "        \n",
    "        for row in rows:\n",
    "\n",
    "            if skip:        \n",
    "               skip = False\n",
    "               continue\n",
    "            else:\n",
    "                subjnum= row[0]\n",
    "                if subjnum not in subject.keys():\n",
    "                    subject[int(subjnum)] = row[1]\n",
    "\n",
    "        \n",
    "        for k in d.keys():\n",
    "            d[k] = [subject[d[k][i]] for i in range(len(d[k]))]\n",
    "            sufile.write((str(l[k]).replace(\",\", \"_\").replace('[', \"\").replace(\"]\", \"\")) + ',' + ' - '.join([x.replace(',',' ') for x in d[k]]) + '\\n')"
   ]
  },
  {
   "cell_type": "code",
   "execution_count": null,
   "id": "cf41547e-2a16-42a8-a920-e37c1dd79e3f",
   "metadata": {},
   "outputs": [],
   "source": []
  }
 ],
 "metadata": {
  "kernelspec": {
   "display_name": "Python 3 (ipykernel)",
   "language": "python",
   "name": "python3"
  },
  "language_info": {
   "codemirror_mode": {
    "name": "ipython",
    "version": 3
   },
   "file_extension": ".py",
   "mimetype": "text/x-python",
   "name": "python",
   "nbconvert_exporter": "python",
   "pygments_lexer": "ipython3",
   "version": "3.9.12"
  }
 },
 "nbformat": 4,
 "nbformat_minor": 5
}
