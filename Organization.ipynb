{
 "cells": [
  {
   "cell_type": "code",
   "execution_count": null,
   "id": "b90ff8d9-52d7-4a0a-b474-52f61812d109",
   "metadata": {},
   "outputs": [],
   "source": [
    "with open(r'C:\\Users\\giova\\OneDrive\\Desktop\\Magistrale\\Secondo anno\\Primo Semestre\\Lab\\answerdataset\\answers_full.csv', mode='r') as file:\n",
    "    header = ['organizationid', 'groupid', 'quizid', 'schemeofworkid']\n",
    "    \n",
    "    organizationid = [] \n",
    "    groupid = [] ##colonna 10\n",
    "    quizid = [] ##colonna 11\n",
    "    schemeofworkid = [] ##colonna 12\n",
    "    \n",
    "    \n",
    "    no_duplicates = set()  #avoid duplicates. We use a list to mantain the order\n",
    "    \n",
    "    skip = True\n",
    "\n",
    "    for line in file.readlines():\n",
    "        row= line.split(',')\n",
    "        if skip:        \n",
    "           skip = False\n",
    "           continue\n",
    "        else:  \n",
    "            for col in range(len(row)): \n",
    "                if col == 10 or col == 11 or col == 12:\n",
    "                    if row[10] and row[11] and row[12] not in no_duplicates:\n",
    "                        no_duplicates.add(row[10])\n",
    "                        no_duplicates.add(row[11])\n",
    "                        no_duplicates.add(row[12])\n",
    "                        organizationid.append(str(row[10]) + str(row[11]) + str(int(float(row[12]))))\n",
    "                        groupid.append(row[10])\n",
    "                        quizid.append(row[11])\n",
    "                        schemeofworkid.append(row[12])\n",
    "\n",
    "with open(r\"C:\\Users\\giova\\OneDrive\\Desktop\\Magistrale\\Secondo anno\\Primo Semestre\\Lab\\Organization.csv\", mode='w') as datefile:        \n",
    "    \n",
    "    for j in range(len(header)):\n",
    "        if j == len(header)-1:\n",
    "            datefile.write(str(header[j])+'\\n')\n",
    "        else:\n",
    "            datefile.write(str(header[j])+',')\n",
    "        \n",
    "    for organizationid, groupid, quizid, schemeofworkid in zip(organizationid,groupid,quizid,schemeofworkid):\n",
    "        datefile.write(str(organizationid) +','+groupid +',' + quizid+','+schemeofworkid+'\\n')"
   ]
  }
 ],
 "metadata": {
  "kernelspec": {
   "display_name": "Python 3 (ipykernel)",
   "language": "python",
   "name": "python3"
  },
  "language_info": {
   "codemirror_mode": {
    "name": "ipython",
    "version": 3
   },
   "file_extension": ".py",
   "mimetype": "text/x-python",
   "name": "python",
   "nbconvert_exporter": "python",
   "pygments_lexer": "ipython3",
   "version": "3.9.13"
  }
 },
 "nbformat": 4,
 "nbformat_minor": 5
}
